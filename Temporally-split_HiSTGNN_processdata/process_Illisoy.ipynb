{
 "cells": [
  {
   "cell_type": "code",
   "execution_count": 1,
   "id": "0e5a2d28-0b19-416b-8f9c-51f71e86f5ca",
   "metadata": {},
   "outputs": [],
   "source": [
    "import os\n",
    "import numpy as np\n",
    "from helper import save_pkl, load_pkl\n",
    "import pandas as pd\n",
    "import numpy as np\n",
    "import matplotlib.pyplot as plt\n",
    "from sklearn.model_selection import train_test_split\n",
    "import os"
   ]
  },
  {
   "cell_type": "code",
   "execution_count": 2,
   "id": "6a49bf1c-a81f-49ae-85a9-ec6f8b2e5246",
   "metadata": {},
   "outputs": [],
   "source": [
    "ytable = pd.read_excel(\"wholesepanorm_temporal.xlsx\")"
   ]
  },
  {
   "cell_type": "code",
   "execution_count": 3,
   "id": "c4afb800-82e6-4202-aa52-00a1dd514dad",
   "metadata": {},
   "outputs": [],
   "source": [
    "ytable = ytable[['Year', 'County', 'Ystar']]"
   ]
  },
  {
   "cell_type": "code",
   "execution_count": 4,
   "id": "ffebb8be-38f0-44a0-bf86-ca483ea90a5a",
   "metadata": {},
   "outputs": [],
   "source": [
    "witable = pd.read_excel(\"nowi.xlsx\")"
   ]
  },
  {
   "cell_type": "code",
   "execution_count": 5,
   "id": "8c15ec1a-e6da-4668-8fa9-56173318e8fb",
   "metadata": {},
   "outputs": [
    {
     "data": {
      "text/html": [
       "<div>\n",
       "<style scoped>\n",
       "    .dataframe tbody tr th:only-of-type {\n",
       "        vertical-align: middle;\n",
       "    }\n",
       "\n",
       "    .dataframe tbody tr th {\n",
       "        vertical-align: top;\n",
       "    }\n",
       "\n",
       "    .dataframe thead th {\n",
       "        text-align: right;\n",
       "    }\n",
       "</style>\n",
       "<table border=\"1\" class=\"dataframe\">\n",
       "  <thead>\n",
       "    <tr style=\"text-align: right;\">\n",
       "      <th></th>\n",
       "      <th>Year</th>\n",
       "      <th>Week</th>\n",
       "      <th>County</th>\n",
       "      <th>CR</th>\n",
       "      <th>GDD</th>\n",
       "      <th>SR</th>\n",
       "      <th>VP</th>\n",
       "    </tr>\n",
       "  </thead>\n",
       "  <tbody>\n",
       "    <tr>\n",
       "      <th>0</th>\n",
       "      <td>1980</td>\n",
       "      <td>20</td>\n",
       "      <td>ADAMS</td>\n",
       "      <td>3.177657e-01</td>\n",
       "      <td>0.373574</td>\n",
       "      <td>0.203237</td>\n",
       "      <td>0.414821</td>\n",
       "    </tr>\n",
       "    <tr>\n",
       "      <th>1</th>\n",
       "      <td>1980</td>\n",
       "      <td>21</td>\n",
       "      <td>ADAMS</td>\n",
       "      <td>3.015491e-09</td>\n",
       "      <td>0.545875</td>\n",
       "      <td>0.543973</td>\n",
       "      <td>0.455979</td>\n",
       "    </tr>\n",
       "    <tr>\n",
       "      <th>2</th>\n",
       "      <td>1980</td>\n",
       "      <td>22</td>\n",
       "      <td>ADAMS</td>\n",
       "      <td>2.786065e-01</td>\n",
       "      <td>0.765586</td>\n",
       "      <td>0.542932</td>\n",
       "      <td>0.729241</td>\n",
       "    </tr>\n",
       "    <tr>\n",
       "      <th>3</th>\n",
       "      <td>1980</td>\n",
       "      <td>23</td>\n",
       "      <td>ADAMS</td>\n",
       "      <td>1.530019e-01</td>\n",
       "      <td>0.691861</td>\n",
       "      <td>0.396179</td>\n",
       "      <td>0.614000</td>\n",
       "    </tr>\n",
       "    <tr>\n",
       "      <th>4</th>\n",
       "      <td>1980</td>\n",
       "      <td>24</td>\n",
       "      <td>ADAMS</td>\n",
       "      <td>4.115283e-02</td>\n",
       "      <td>0.477466</td>\n",
       "      <td>0.699227</td>\n",
       "      <td>0.394845</td>\n",
       "    </tr>\n",
       "    <tr>\n",
       "      <th>...</th>\n",
       "      <td>...</td>\n",
       "      <td>...</td>\n",
       "      <td>...</td>\n",
       "      <td>...</td>\n",
       "      <td>...</td>\n",
       "      <td>...</td>\n",
       "      <td>...</td>\n",
       "    </tr>\n",
       "    <tr>\n",
       "      <th>107323</th>\n",
       "      <td>2022</td>\n",
       "      <td>41</td>\n",
       "      <td>WOODFORD</td>\n",
       "      <td>2.593562e-01</td>\n",
       "      <td>0.105270</td>\n",
       "      <td>0.268064</td>\n",
       "      <td>0.169067</td>\n",
       "    </tr>\n",
       "    <tr>\n",
       "      <th>107324</th>\n",
       "      <td>2022</td>\n",
       "      <td>42</td>\n",
       "      <td>WOODFORD</td>\n",
       "      <td>0.000000e+00</td>\n",
       "      <td>0.589737</td>\n",
       "      <td>0.537992</td>\n",
       "      <td>0.274582</td>\n",
       "    </tr>\n",
       "    <tr>\n",
       "      <th>107325</th>\n",
       "      <td>2022</td>\n",
       "      <td>43</td>\n",
       "      <td>WOODFORD</td>\n",
       "      <td>2.351197e-01</td>\n",
       "      <td>0.326517</td>\n",
       "      <td>0.750891</td>\n",
       "      <td>0.387392</td>\n",
       "    </tr>\n",
       "    <tr>\n",
       "      <th>107326</th>\n",
       "      <td>2022</td>\n",
       "      <td>44</td>\n",
       "      <td>WOODFORD</td>\n",
       "      <td>1.438005e-01</td>\n",
       "      <td>0.573730</td>\n",
       "      <td>0.382120</td>\n",
       "      <td>0.736461</td>\n",
       "    </tr>\n",
       "    <tr>\n",
       "      <th>107327</th>\n",
       "      <td>2022</td>\n",
       "      <td>45</td>\n",
       "      <td>WOODFORD</td>\n",
       "      <td>1.006260e-02</td>\n",
       "      <td>0.401426</td>\n",
       "      <td>0.304283</td>\n",
       "      <td>0.537415</td>\n",
       "    </tr>\n",
       "  </tbody>\n",
       "</table>\n",
       "<p>107328 rows × 7 columns</p>\n",
       "</div>"
      ],
      "text/plain": [
       "        Year  Week    County            CR       GDD        SR        VP\n",
       "0       1980    20     ADAMS  3.177657e-01  0.373574  0.203237  0.414821\n",
       "1       1980    21     ADAMS  3.015491e-09  0.545875  0.543973  0.455979\n",
       "2       1980    22     ADAMS  2.786065e-01  0.765586  0.542932  0.729241\n",
       "3       1980    23     ADAMS  1.530019e-01  0.691861  0.396179  0.614000\n",
       "4       1980    24     ADAMS  4.115283e-02  0.477466  0.699227  0.394845\n",
       "...      ...   ...       ...           ...       ...       ...       ...\n",
       "107323  2022    41  WOODFORD  2.593562e-01  0.105270  0.268064  0.169067\n",
       "107324  2022    42  WOODFORD  0.000000e+00  0.589737  0.537992  0.274582\n",
       "107325  2022    43  WOODFORD  2.351197e-01  0.326517  0.750891  0.387392\n",
       "107326  2022    44  WOODFORD  1.438005e-01  0.573730  0.382120  0.736461\n",
       "107327  2022    45  WOODFORD  1.006260e-02  0.401426  0.304283  0.537415\n",
       "\n",
       "[107328 rows x 7 columns]"
      ]
     },
     "execution_count": 5,
     "metadata": {},
     "output_type": "execute_result"
    }
   ],
   "source": [
    "witable"
   ]
  },
  {
   "cell_type": "code",
   "execution_count": 6,
   "id": "93bf8c94-1a30-4907-bf23-a4197a28ecf9",
   "metadata": {},
   "outputs": [
    {
     "data": {
      "text/plain": [
       "Index(['CR', 'GDD', 'SR', 'VP'], dtype='object')"
      ]
     },
     "execution_count": 6,
     "metadata": {},
     "output_type": "execute_result"
    }
   ],
   "source": [
    "wihead = witable.keys()[3:7]\n",
    "wihead"
   ]
  },
  {
   "cell_type": "code",
   "execution_count": 7,
   "id": "a2af6f4f-69af-442b-aa04-f892e80c026f",
   "metadata": {},
   "outputs": [],
   "source": [
    "## weather index\n",
    "illi_CR = witable[['Year', 'Week', 'County', 'CR']]\n",
    "illi_GDD = witable[['Year', 'Week', 'County', 'GDD']]\n",
    "illi_SR = witable[['Year', 'Week', 'County', 'SR']]\n",
    "illi_VP = witable[['Year', 'Week', 'County', 'VP']]"
   ]
  },
  {
   "cell_type": "code",
   "execution_count": 8,
   "id": "9210076b-e0e0-4c4d-a1f6-e76e5348b717",
   "metadata": {},
   "outputs": [],
   "source": [
    "### merge and stack\n",
    "illi_widata = []\n",
    "\n",
    "## weather index\n",
    "illi_widata.append(illi_CR.values)\n",
    "illi_widata.append(illi_GDD.values)\n",
    "illi_widata.append(illi_SR.values)\n",
    "illi_widata.append(illi_VP.values)\n",
    "\n",
    "### time, location -> time, location, variable\n",
    "illi_widata = np.stack(illi_widata, axis=1)"
   ]
  },
  {
   "cell_type": "code",
   "execution_count": 9,
   "id": "90a065fc-0e10-416f-b0e4-8f2ffe286131",
   "metadata": {},
   "outputs": [
    {
     "data": {
      "text/plain": [
       "(107328, 4, 4)"
      ]
     },
     "execution_count": 9,
     "metadata": {},
     "output_type": "execute_result"
    }
   ],
   "source": [
    "illi_widata.shape"
   ]
  },
  {
   "cell_type": "code",
   "execution_count": 10,
   "id": "7cfc4e0e-6c9c-49b7-afe9-875ff672e8c0",
   "metadata": {},
   "outputs": [],
   "source": [
    "X = []\n",
    "for i in range(1980, 2022+1):\n",
    "    x = illi_widata[(i-1980)*26*96 : (i-1980+1)*26*96, ...]\n",
    "    X.append(x)\n",
    "X = np.array(X)"
   ]
  },
  {
   "cell_type": "code",
   "execution_count": 11,
   "id": "bd75c285-8024-4172-a4f1-aace21f9e1a7",
   "metadata": {},
   "outputs": [
    {
     "data": {
      "text/plain": [
       "(43, 2496, 4, 4)"
      ]
     },
     "execution_count": 11,
     "metadata": {},
     "output_type": "execute_result"
    }
   ],
   "source": [
    "X.shape"
   ]
  },
  {
   "cell_type": "code",
   "execution_count": 12,
   "id": "bca80db2-ee90-49ef-b729-031b2ae183e0",
   "metadata": {},
   "outputs": [],
   "source": [
    "## import xwhole, xtrain, xval, xtest; ywhole, ytrain, yval, ytest\n",
    "x_whole = [] \n",
    "for i in range(1980, 2022+1):\n",
    "    x = illi_widata[(i-1980)*26*96 : (i-1980+1)*26*96, ...]\n",
    "    x_whole.append(x)\n",
    "x_whole = np.array(x_whole)"
   ]
  },
  {
   "cell_type": "code",
   "execution_count": 13,
   "id": "69537b19-b4bd-4d0e-9f21-8517d6e9ecf6",
   "metadata": {},
   "outputs": [
    {
     "data": {
      "text/plain": [
       "(43, 2496, 4, 4)"
      ]
     },
     "execution_count": 13,
     "metadata": {},
     "output_type": "execute_result"
    }
   ],
   "source": [
    "x_whole.shape"
   ]
  },
  {
   "cell_type": "code",
   "execution_count": 14,
   "id": "bef79735-9eab-433d-a3ce-c7bc19c0a00f",
   "metadata": {},
   "outputs": [],
   "source": [
    "## x_train\n",
    "\n",
    "x_train = []\n",
    "for i in range(1980, 2013+1):\n",
    "    x = illi_widata[(i-1980)*26*96 : (i-1980+1)*26*96, ...]\n",
    "    x_train.append(x)\n",
    "x_train = np.array(x_train)"
   ]
  },
  {
   "cell_type": "code",
   "execution_count": 15,
   "id": "8f3ff23c-9534-4d47-9acf-cb16f8b93cfb",
   "metadata": {},
   "outputs": [],
   "source": [
    "## x_val\n",
    "\n",
    "x_val = []\n",
    "for i in range(2014, 2018+1):\n",
    "    x = illi_widata[(i-2014+34)*26*96 : (i-2014+1+34)*26*96, ...]\n",
    "    x_val.append(x)\n",
    "x_val = np.array(x_val)"
   ]
  },
  {
   "cell_type": "code",
   "execution_count": 16,
   "id": "e8731f26-b1c4-44bb-b521-adfefab9d3a3",
   "metadata": {},
   "outputs": [],
   "source": [
    "## x_test\n",
    "\n",
    "x_test = []\n",
    "for i in range(2019, 2022+1):\n",
    "    x = illi_widata[(i-2019+39)*26*96 : (i-2019+1+39)*26*96, ...]\n",
    "    x_test.append(x)\n",
    "x_test = np.array(x_test)"
   ]
  },
  {
   "cell_type": "code",
   "execution_count": 17,
   "id": "7502e1c4-1fa6-4aaa-af70-c9d5c0891f01",
   "metadata": {},
   "outputs": [
    {
     "data": {
      "text/plain": [
       "array([[1980, 'ADAMS', 0.583881986040295],\n",
       "       [1980, 'BOND', 0.429434186426414],\n",
       "       [1980, 'BOONE', 0.738329785654175],\n",
       "       ...,\n",
       "       [2022, 'WILLIAMSON', 0.117790108234005],\n",
       "       [2022, 'WINNEBAGO', 0.534559528702562],\n",
       "       [2022, 'WOODFORD', 0.689923277161255]], dtype=object)"
      ]
     },
     "execution_count": 17,
     "metadata": {},
     "output_type": "execute_result"
    }
   ],
   "source": [
    "ytable.values"
   ]
  },
  {
   "cell_type": "code",
   "execution_count": 18,
   "id": "b8fefeda-a0f2-44d0-80f6-1ace92211705",
   "metadata": {
    "scrolled": true
   },
   "outputs": [],
   "source": [
    "ywholelist = []\n",
    "for eachyear in x_whole:\n",
    "   year = eachyear[0][0][0]\n",
    "   for allyield in ytable.values:\n",
    "       if allyield[0] == year:\n",
    "          ywholelist.append(allyield)\n",
    "y_whole = np.array(ywholelist,dtype=object)\n",
    "\n",
    "ytrainlist = []\n",
    "for eachyear in x_train:\n",
    "   year = eachyear[0][0][0]\n",
    "   for allyield in ytable.values:\n",
    "       if allyield[0] == year:\n",
    "          ytrainlist.append(allyield)\n",
    "y_train = np.array(ytrainlist,dtype=object)\n",
    "\n",
    "yvallist = []\n",
    "for eachyear in x_val:\n",
    "   year = eachyear[0][0][0]\n",
    "   for allyield in ytable.values:\n",
    "       if allyield[0] == year:\n",
    "          yvallist.append(allyield)\n",
    "y_val = np.array(yvallist,dtype=object)\n",
    "\n",
    "ytestlist = []\n",
    "for eachyear in x_test:\n",
    "   year = eachyear[0][0][0]\n",
    "   for allyield in ytable.values:\n",
    "       if allyield[0] == year:\n",
    "          ytestlist.append(allyield)\n",
    "y_test = np.array(ytestlist,dtype=object) "
   ]
  },
  {
   "cell_type": "code",
   "execution_count": 20,
   "id": "28916221-5306-4a72-8a6c-01d0457f26d5",
   "metadata": {},
   "outputs": [
    {
     "name": "stdout",
     "output_type": "stream",
     "text": [
      "illi_data_sepanormal_temporal.dict  is dumped in:  \n"
     ]
    }
   ],
   "source": [
    "data = {}\n",
    "data['x_whole'] = x_whole\n",
    "data['y_whole'] = y_whole\n",
    "data['x_train'] = x_train\n",
    "data['y_train'] = y_train\n",
    "data['x_val'] = x_val\n",
    "data['y_val'] = y_val\n",
    "data['x_test'] = x_test\n",
    "data['y_test'] = y_test    \n",
    "\n",
    "# save data\n",
    "dir = \"\"\n",
    "path = dir\n",
    "save_pkl(data, path,  'illi_data_sepanormal_temporal.dict')"
   ]
  },
  {
   "cell_type": "code",
   "execution_count": 21,
   "id": "2686bd91-24f7-42f2-9d3f-455221922c77",
   "metadata": {},
   "outputs": [
    {
     "name": "stdout",
     "output_type": "stream",
     "text": [
      "illi_data_sepanormal_temporal.dict  is loaded from:  \n"
     ]
    }
   ],
   "source": [
    "illi_data_wi = load_pkl(dir, 'illi_data_sepanormal_temporal.dict')"
   ]
  },
  {
   "cell_type": "code",
   "execution_count": 23,
   "id": "c16b1efc-f971-49b5-be7d-6f47b588852d",
   "metadata": {},
   "outputs": [
    {
     "data": {
      "text/plain": [
       "array([[[[2014, 20, 'ADAMS', 0.356363362850653],\n",
       "         [2014, 20, 'ADAMS', 0.0474058628204767],\n",
       "         [2014, 20, 'ADAMS', 0.227681555857512],\n",
       "         [2014, 20, 'ADAMS', 0.205274289604586]],\n",
       "\n",
       "        [[2014, 21, 'ADAMS', 0.0174083589908543],\n",
       "         [2014, 21, 'ADAMS', 0.566495838786252],\n",
       "         [2014, 21, 'ADAMS', 0.683001147646808],\n",
       "         [2014, 21, 'ADAMS', 0.396329134303367]],\n",
       "\n",
       "        [[2014, 22, 'ADAMS', 0.100462448702718],\n",
       "         [2014, 22, 'ADAMS', 0.747588871730378],\n",
       "         [2014, 22, 'ADAMS', 0.472939134136024],\n",
       "         [2014, 22, 'ADAMS', 0.645721139450127]],\n",
       "\n",
       "        ...,\n",
       "\n",
       "        [[2014, 43, 'WOODFORD', 0.00250202851201391],\n",
       "         [2014, 43, 'WOODFORD', 0.234874477715634],\n",
       "         [2014, 43, 'WOODFORD', 0.869705533057859],\n",
       "         [2014, 43, 'WOODFORD', 0.253775558224769]],\n",
       "\n",
       "        [[2014, 44, 'WOODFORD', 0.0372597879790864],\n",
       "         [2014, 44, 'WOODFORD', 0.201054154019016],\n",
       "         [2014, 44, 'WOODFORD', 0.686514436432622],\n",
       "         [2014, 44, 'WOODFORD', 0.153407343310859]],\n",
       "\n",
       "        [[2014, 45, 'WOODFORD', 0.111382572174395],\n",
       "         [2014, 45, 'WOODFORD', 0.00842006534737264],\n",
       "         [2014, 45, 'WOODFORD', 0.701138857565014],\n",
       "         [2014, 45, 'WOODFORD', 0.275635946431468]]],\n",
       "\n",
       "\n",
       "       [[[2015, 20, 'ADAMS', 0.203757780929723],\n",
       "         [2015, 20, 'ADAMS', 0.447726587315666],\n",
       "         [2015, 20, 'ADAMS', 0.22768147608416],\n",
       "         [2015, 20, 'ADAMS', 0.489340566090809]],\n",
       "\n",
       "        [[2015, 21, 'ADAMS', 0.458121224104251],\n",
       "         [2015, 21, 'ADAMS', 0.142159972307012],\n",
       "         [2015, 21, 'ADAMS', 0.267759160186243],\n",
       "         [2015, 21, 'ADAMS', 0.116736445888065]],\n",
       "\n",
       "        [[2015, 22, 'ADAMS', 0.284022513288482],\n",
       "         [2015, 22, 'ADAMS', 0.220275367387],\n",
       "         [2015, 22, 'ADAMS', 0.0567578979429912],\n",
       "         [2015, 22, 'ADAMS', 0.410727838956577]],\n",
       "\n",
       "        ...,\n",
       "\n",
       "        [[2015, 43, 'WOODFORD', 0.126890089210573],\n",
       "         [2015, 43, 'WOODFORD', 0.739024251738358],\n",
       "         [2015, 43, 'WOODFORD', 0.548014049737744],\n",
       "         [2015, 43, 'WOODFORD', 0.785859935244175]],\n",
       "\n",
       "        [[2015, 44, 'WOODFORD', 0.319096101902197],\n",
       "         [2015, 44, 'WOODFORD', 0.0632069062297301],\n",
       "         [2015, 44, 'WOODFORD', 0.309474780826744],\n",
       "         [2015, 44, 'WOODFORD', 0.221986138385514]],\n",
       "\n",
       "        [[2015, 45, 'WOODFORD', 0.235304682398744],\n",
       "         [2015, 45, 'WOODFORD', 0.584776681415341],\n",
       "         [2015, 45, 'WOODFORD', 0.612600077984113],\n",
       "         [2015, 45, 'WOODFORD', 0.639245781116249]]],\n",
       "\n",
       "\n",
       "       [[[2016, 20, 'ADAMS', 0.0756279443983088],\n",
       "         [2016, 20, 'ADAMS', 0.16866151155752],\n",
       "         [2016, 20, 'ADAMS', 0.695807816924625],\n",
       "         [2016, 20, 'ADAMS', 0.144873763221404]],\n",
       "\n",
       "        [[2016, 21, 'ADAMS', 0.605811958627798],\n",
       "         [2016, 21, 'ADAMS', 0.757178591680421],\n",
       "         [2016, 21, 'ADAMS', 0.345445060034307],\n",
       "         [2016, 21, 'ADAMS', 0.648072924274925]],\n",
       "\n",
       "        [[2016, 22, 'ADAMS', 0.0520621847953471],\n",
       "         [2016, 22, 'ADAMS', 0.546218347774241],\n",
       "         [2016, 22, 'ADAMS', 0.59548821136152],\n",
       "         [2016, 22, 'ADAMS', 0.520104803581264]],\n",
       "\n",
       "        ...,\n",
       "\n",
       "        [[2016, 43, 'WOODFORD', 0.232569861882038],\n",
       "         [2016, 43, 'WOODFORD', 0.314886906076509],\n",
       "         [2016, 43, 'WOODFORD', 0.282557567014899],\n",
       "         [2016, 43, 'WOODFORD', 0.577659783188716]],\n",
       "\n",
       "        [[2016, 44, 'WOODFORD', 0.225950940482658],\n",
       "         [2016, 44, 'WOODFORD', 0.587528213663677],\n",
       "         [2016, 44, 'WOODFORD', 0.650718006939938],\n",
       "         [2016, 44, 'WOODFORD', 0.664435989115408]],\n",
       "\n",
       "        [[2016, 45, 'WOODFORD', 0.03211872599828],\n",
       "         [2016, 45, 'WOODFORD', 0.0929397986845018],\n",
       "         [2016, 45, 'WOODFORD', 0.803622424283469],\n",
       "         [2016, 45, 'WOODFORD', 0.321165809744902]]],\n",
       "\n",
       "\n",
       "       [[[2017, 20, 'ADAMS', 0.757189876237999],\n",
       "         [2017, 20, 'ADAMS', 0.640402379667119],\n",
       "         [2017, 20, 'ADAMS', 0.27783339246628],\n",
       "         [2017, 20, 'ADAMS', 0.674536099229882]],\n",
       "\n",
       "        [[2017, 21, 'ADAMS', 0.418137433299124],\n",
       "         [2017, 21, 'ADAMS', 0.305756628325487],\n",
       "         [2017, 21, 'ADAMS', 0.363024575589104],\n",
       "         [2017, 21, 'ADAMS', 0.267426619351031]],\n",
       "\n",
       "        [[2017, 22, 'ADAMS', 1.19057471983279e-05],\n",
       "         [2017, 22, 'ADAMS', 0.374180848105905],\n",
       "         [2017, 22, 'ADAMS', 0.900594914362413],\n",
       "         [2017, 22, 'ADAMS', 0.255595558908743]],\n",
       "\n",
       "        ...,\n",
       "\n",
       "        [[2017, 43, 'WOODFORD', 0.15503161287402],\n",
       "         [2017, 43, 'WOODFORD', 0.0462197632491543],\n",
       "         [2017, 43, 'WOODFORD', 0.212952877111542],\n",
       "         [2017, 43, 'WOODFORD', 0.196179003719356]],\n",
       "\n",
       "        [[2017, 44, 'WOODFORD', 0.0458617178941922],\n",
       "         [2017, 44, 'WOODFORD', 0.000130581394090224],\n",
       "         [2017, 44, 'WOODFORD', 0.604911273692397],\n",
       "         [2017, 44, 'WOODFORD', 0.102173437936112]],\n",
       "\n",
       "        [[2017, 45, 'WOODFORD', 0.131885828644716],\n",
       "         [2017, 45, 'WOODFORD', 0.0],\n",
       "         [2017, 45, 'WOODFORD', 0.590384445266496],\n",
       "         [2017, 45, 'WOODFORD', 0.0988483925135865]]],\n",
       "\n",
       "\n",
       "       [[[2018, 20, 'ADAMS', 0.197816447923713],\n",
       "         [2018, 20, 'ADAMS', 0.777018304810311],\n",
       "         [2018, 20, 'ADAMS', 0.129036735297922],\n",
       "         [2018, 20, 'ADAMS', 0.788517242033589]],\n",
       "\n",
       "        [[2018, 21, 'ADAMS', 0.207967641538684],\n",
       "         [2018, 21, 'ADAMS', 0.927215327757567],\n",
       "         [2018, 21, 'ADAMS', 0.215722274269779],\n",
       "         [2018, 21, 'ADAMS', 0.817499244995656]],\n",
       "\n",
       "        [[2018, 22, 'ADAMS', 0.0290697941068354],\n",
       "         [2018, 22, 'ADAMS', 0.934565071902097],\n",
       "         [2018, 22, 'ADAMS', 0.46082109678497],\n",
       "         [2018, 22, 'ADAMS', 0.812904438551913]],\n",
       "\n",
       "        ...,\n",
       "\n",
       "        [[2018, 43, 'WOODFORD', 0.147298117408576],\n",
       "         [2018, 43, 'WOODFORD', 0.0],\n",
       "         [2018, 43, 'WOODFORD', 0.602898778791305],\n",
       "         [2018, 43, 'WOODFORD', 0.0342590238985258]],\n",
       "\n",
       "        [[2018, 44, 'WOODFORD', 0.245622152940428],\n",
       "         [2018, 44, 'WOODFORD', 0.0887508757657254],\n",
       "         [2018, 44, 'WOODFORD', 0.412115725944788],\n",
       "         [2018, 44, 'WOODFORD', 0.258058503064704]],\n",
       "\n",
       "        [[2018, 45, 'WOODFORD', 0.282783221485891],\n",
       "         [2018, 45, 'WOODFORD', 0.0],\n",
       "         [2018, 45, 'WOODFORD', 0.23675360078006],\n",
       "         [2018, 45, 'WOODFORD', 0.188960092331221]]]], dtype=object)"
      ]
     },
     "execution_count": 23,
     "metadata": {},
     "output_type": "execute_result"
    }
   ],
   "source": [
    "illi_data_wi['x_val']"
   ]
  },
  {
   "cell_type": "code",
   "execution_count": null,
   "id": "d11966bf-7715-4df0-ba4b-301fe5d95d60",
   "metadata": {},
   "outputs": [],
   "source": []
  }
 ],
 "metadata": {
  "kernelspec": {
   "display_name": "Python 3 (ipykernel)",
   "language": "python",
   "name": "python3"
  },
  "language_info": {
   "codemirror_mode": {
    "name": "ipython",
    "version": 3
   },
   "file_extension": ".py",
   "mimetype": "text/x-python",
   "name": "python",
   "nbconvert_exporter": "python",
   "pygments_lexer": "ipython3",
   "version": "3.11.5"
  }
 },
 "nbformat": 4,
 "nbformat_minor": 5
}
